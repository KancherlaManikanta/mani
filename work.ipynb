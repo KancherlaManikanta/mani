{
 "cells": [
  {
   "cell_type": "code",
   "execution_count": null,
   "id": "18d010db",
   "metadata": {},
   "outputs": [],
   "source": [
    "#even index are in uppercase"
   ]
  },
  {
   "cell_type": "code",
   "execution_count": 4,
   "id": "e1355dac",
   "metadata": {},
   "outputs": [
    {
     "name": "stdout",
     "output_type": "stream",
     "text": [
      "enter the stringabcde\n",
      "AbCdE\n"
     ]
    }
   ],
   "source": [
    "x=input(\"enter the string\")\n",
    "i=0\n",
    "z=\"\"\n",
    "while i<len(x):\n",
    "    if i%2==0:\n",
    "        z=z+(x[i].upper())\n",
    "    else: \n",
    "        z=z+(x[i])\n",
    "    i=i+1\n",
    "print(z)"
   ]
  },
  {
   "cell_type": "code",
   "execution_count": null,
   "id": "d01b984d",
   "metadata": {},
   "outputs": [],
   "source": [
    "#type()"
   ]
  },
  {
   "cell_type": "code",
   "execution_count": 6,
   "id": "dfdf7700",
   "metadata": {},
   "outputs": [
    {
     "name": "stdout",
     "output_type": "stream",
     "text": [
      "<class 'str'>\n",
      "<class 'float'>\n",
      "<class 'str'>\n",
      "<class 'complex'>\n"
     ]
    }
   ],
   "source": [
    "x=[\"a\",1.2,\"abcd\",1+2j]\n",
    "i=0\n",
    "while i<len(x):\n",
    "    print(type(x[i]))\n",
    "    i=i+1"
   ]
  },
  {
   "cell_type": "code",
   "execution_count": null,
   "id": "b121c594",
   "metadata": {},
   "outputs": [],
   "source": [
    "#seperation of alphabets and numbers"
   ]
  },
  {
   "cell_type": "code",
   "execution_count": 9,
   "id": "d3c56004",
   "metadata": {},
   "outputs": [
    {
     "name": "stdout",
     "output_type": "stream",
     "text": [
      "['a', 'b', 'c', 'd', 'e', 'f']\n",
      "['1', '2', '3']\n"
     ]
    }
   ],
   "source": [
    "x=\"abcd123ef\"\n",
    "p=list(x)\n",
    "i=0\n",
    "k=[]\n",
    "n=[]\n",
    "while i<len(x):\n",
    "    if p[i].isalpha():\n",
    "        k.append(p[i])\n",
    "    else:\n",
    "        n.append(p[i])\n",
    "    i=i+1\n",
    "print(k)\n",
    "print(n)"
   ]
  },
  {
   "cell_type": "code",
   "execution_count": 2,
   "id": "548537a3",
   "metadata": {},
   "outputs": [
    {
     "name": "stdout",
     "output_type": "stream",
     "text": [
      "abc\n",
      "8\n"
     ]
    }
   ],
   "source": [
    "x=[\"a\",\"b\",\"1\",\"2\",\"c\",\"5\"]\n",
    "i=0\n",
    "k=\"\"\n",
    "c=0\n",
    "while i<len(x):\n",
    "    if x[i].isalpha():\n",
    "        k=k+x[i]\n",
    "    else:\n",
    "        c=c+int(x[i])\n",
    "    i=i+1\n",
    "print(k)\n",
    "print(c)"
   ]
  },
  {
   "cell_type": "code",
   "execution_count": null,
   "id": "4e8779ad",
   "metadata": {},
   "outputs": [],
   "source": []
  }
 ],
 "metadata": {
  "kernelspec": {
   "display_name": "Python 3 (ipykernel)",
   "language": "python",
   "name": "python3"
  },
  "language_info": {
   "codemirror_mode": {
    "name": "ipython",
    "version": 3
   },
   "file_extension": ".py",
   "mimetype": "text/x-python",
   "name": "python",
   "nbconvert_exporter": "python",
   "pygments_lexer": "ipython3",
   "version": "3.9.12"
  }
 },
 "nbformat": 4,
 "nbformat_minor": 5
}
